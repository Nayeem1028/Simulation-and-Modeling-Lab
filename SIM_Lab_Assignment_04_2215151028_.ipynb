{
  "nbformat": 4,
  "nbformat_minor": 0,
  "metadata": {
    "colab": {
      "provenance": [],
      "authorship_tag": "ABX9TyMCkYFrS8sVVY80dKMby9Ja",
      "include_colab_link": true
    },
    "kernelspec": {
      "name": "python3",
      "display_name": "Python 3"
    },
    "language_info": {
      "name": "python"
    }
  },
  "cells": [
    {
      "cell_type": "markdown",
      "metadata": {
        "id": "view-in-github",
        "colab_type": "text"
      },
      "source": [
        "<a href=\"https://colab.research.google.com/github/Nayeem1028/Simulation-and-Modeling-Lab/blob/main/SIM_Lab_Assignment_04_2215151028_.ipynb\" target=\"_parent\"><img src=\"https://colab.research.google.com/assets/colab-badge.svg\" alt=\"Open In Colab\"/></a>"
      ]
    },
    {
      "cell_type": "markdown",
      "source": [
        "## **ID: 2215151028**"
      ],
      "metadata": {
        "id": "LVF3frLBXMTT"
      }
    },
    {
      "cell_type": "markdown",
      "source": [
        "**Name** : Nayeem Islam\n",
        "\n",
        "**Section** : 7A2\n"
      ],
      "metadata": {
        "id": "ugNbDzHzwD4h"
      }
    },
    {
      "cell_type": "markdown",
      "source": [],
      "metadata": {
        "id": "Ai64a7QGwj2W"
      }
    },
    {
      "cell_type": "markdown",
      "source": [
        "\n",
        "\n",
        "---\n",
        "\n"
      ],
      "metadata": {
        "id": "d8VJW7zGwiXg"
      }
    },
    {
      "cell_type": "markdown",
      "source": [
        "\n",
        "#**Task**\n",
        "\n",
        "## Generate two sets of from a normal distribution and perform a two-sample t-test.##\n",
        "\n",
        "- Randomly generate 50 values from a normal distribution with a chosen mean (μ1) and standard deviation.\n",
        "\n",
        "\n",
        "- Randomly generate 50 values from a normal distribution with a different mean (μ2) and standard deviation.\n",
        "\n",
        "\n",
        "Use and determine whether the means differ significantly."
      ],
      "metadata": {
        "id": "8v-vTd-zXk4w"
      }
    },
    {
      "cell_type": "code",
      "execution_count": 7,
      "metadata": {
        "colab": {
          "base_uri": "https://localhost:8080/",
          "height": 512
        },
        "id": "_2Hq2XeGXLf-",
        "outputId": "53c523ed-b227-470d-d3cc-b7219480c430"
      },
      "outputs": [
        {
          "output_type": "stream",
          "name": "stdout",
          "text": [
            "Sample 1 Mean: 47.41\n",
            "Sample 2 Mean: 55.34\n",
            "t-Statistic: -3.90\n",
            "Degrees of Freedom: 93.93\n",
            "p-Value: 0.0002\n",
            "Confidence Interval of Mean Difference: [-11.95, -3.89]\n",
            "Reject the null hypothesis. The means of the two samples are significantly different.\n"
          ]
        },
        {
          "output_type": "display_data",
          "data": {
            "text/plain": [
              "<Figure size 600x400 with 1 Axes>"
            ],
            "image/png": "[encoded data removed]"
          },
          "metadata": {}
        }
      ],
      "source": [
        "import numpy as np\n",
        "import scipy.stats as stats\n",
        "import matplotlib.pyplot as plt\n",
        "\n",
        "# Define parameters\n",
        "mu1, sigma1, n1 = 50, 10, 50  # Mean, Std Dev, Sample Size for Sample 1\n",
        "mu2, sigma2, n2 = 55, 12, 50  # Mean, Std Dev, Sample Size for Sample 2\n",
        "\n",
        "# Generate random samples\n",
        "\n",
        "data1 = np.random.normal(mu1, sigma1, n1)\n",
        "data2 = np.random.normal(mu2, sigma2, n2)\n",
        "\n",
        "# Perform Welch's t-test\n",
        "t_statistic, p_value = stats.ttest_ind(data1, data2, equal_var=False)\n",
        "\n",
        "# Compute confidence interval\n",
        "mean_diff = np.mean(data1) - np.mean(data2)\n",
        "std_err = np.sqrt(np.var(data1, ddof=1)/len(data1) + np.var(data2, ddof=1)/len(data2))\n",
        "df = (std_err**4) / ((np.var(data1, ddof=1)/len(data1))**2 / (len(data1)-1) + (np.var(data2, ddof=1)/len(data2))**2 / (len(data2)-1))\n",
        "ci = stats.t.interval(0.95, df, loc=mean_diff, scale=std_err)\n",
        "\n",
        "# Display results\n",
        "print(f\"Sample 1 Mean: {np.mean(data1):.2f}\")\n",
        "print(f\"Sample 2 Mean: {np.mean(data2):.2f}\")\n",
        "print(f\"t-Statistic: {t_statistic:.2f}\")\n",
        "print(f\"Degrees of Freedom: {df:.2f}\")\n",
        "print(f\"p-Value: {p_value:.4f}\")\n",
        "print(f\"Confidence Interval of Mean Difference: [{ci[0]:.2f}, {ci[1]:.2f}]\")\n",
        "\n",
        "# Hypothesis testing decision\n",
        "alpha = 0.05\n",
        "if p_value < alpha:\n",
        "    print(\"Reject the null hypothesis. The means of the two samples are significantly different.\")\n",
        "else:\n",
        "    print(\"Fail to reject the null hypothesis. The means of the two samples are not significantly different.\")\n",
        "\n",
        "# Visualization\n",
        "plt.figure(figsize=(6, 4))\n",
        "plt.bar(['Sample 1', 'Sample 2'], [np.mean(data1), np.mean(data2)], color=['blue', 'green'], alpha=0.7)\n",
        "plt.errorbar(['Sample 1', 'Sample 2'], [np.mean(data1), np.mean(data2)], yerr=[np.std(data1, ddof=1), np.std(data2, ddof=1)], fmt='k_', capsize=5)\n",
        "plt.title('Comparison of Sample Means')\n",
        "plt.ylabel('Mean Value')\n",
        "plt.grid(True)\n",
        "plt.show()\n"
      ]
    }
  ]
}