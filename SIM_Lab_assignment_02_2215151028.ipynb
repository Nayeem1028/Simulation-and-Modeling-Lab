{
  "nbformat": 4,
  "nbformat_minor": 0,
  "metadata": {
    "colab": {
      "provenance": []
    },
    "kernelspec": {
      "name": "python3",
      "display_name": "Python 3"
    },
    "language_info": {
      "name": "python"
    }
  },
  "cells": [
    {
      "cell_type": "code",
      "source": [
        "import numpy as np\n"
      ],
      "metadata": {
        "id": "aT9gYCNmAhr_"
      },
      "execution_count": 1,
      "outputs": []
    },
    {
      "cell_type": "markdown",
      "source": [
        "# Task 1: Create a 3x3 Matrix of Random Integers between 1 and 50\n",
        "\n",
        "\n",
        "---\n",
        "\n"
      ],
      "metadata": {
        "id": "SBBtpnrW-o1h"
      }
    },
    {
      "cell_type": "code",
      "source": [
        "# Task 1: Create a 3x3 Matrix of Random Integers between 1 and 50\n",
        "without_seed_matrix = np.random.randint(1, 51, (3, 3))\n",
        "print(\"Random 3x3 Matrix Without Seed:\")\n",
        "print(without_seed_matrix)\n",
        "\n"
      ],
      "metadata": {
        "colab": {
          "base_uri": "https://localhost:8080/"
        },
        "id": "7TuEUeN6Azip",
        "outputId": "c88432b4-43b7-4ab5-8d61-f3e83964c841"
      },
      "execution_count": 2,
      "outputs": [
        {
          "output_type": "stream",
          "name": "stdout",
          "text": [
            "Random 3x3 Matrix Without Seed:\n",
            "[[36 29 22]\n",
            " [33 40 12]\n",
            " [44 10  5]]\n"
          ]
        }
      ]
    },
    {
      "cell_type": "markdown",
      "source": [
        "# Task 2: Create a 3x3 Matrix of Random Integers between 1 and 50 With a fixed seed\n",
        "\n",
        "---\n",
        "\n",
        "\n"
      ],
      "metadata": {
        "id": "M08e4rSfDGf4"
      }
    },
    {
      "cell_type": "code",
      "source": [
        "# Task 2: Create a 3x3 Matrix with a Fixed Seed\n",
        "np.random.seed(10)\n",
        "with_seed_matrix = np.random.randint(1, 51, (3, 3))\n",
        "print(\"\\nMatrix with Fixed Seed :\")\n",
        "print(with_seed_matrix)"
      ],
      "metadata": {
        "colab": {
          "base_uri": "https://localhost:8080/"
        },
        "id": "kcvEDYMSA1VH",
        "outputId": "a125ab1f-290b-468b-fad7-102579a884b7"
      },
      "execution_count": 3,
      "outputs": [
        {
          "output_type": "stream",
          "name": "stdout",
          "text": [
            "\n",
            "Matrix with Fixed Seed :\n",
            "[[10 37 16]\n",
            " [ 1 50 29]\n",
            " [26 30 49]]\n"
          ]
        }
      ]
    },
    {
      "cell_type": "markdown",
      "source": [
        "# Task 3: Create a 3x3 Matrix of Random Integers between 1 and 50 Without a fixed seed\n",
        "\n",
        "\n",
        "---\n",
        "\n"
      ],
      "metadata": {
        "id": "2UcCGBjGDFQv"
      }
    },
    {
      "cell_type": "code",
      "source": [
        "# Task 3: Another Random 3x3 Matrix Without Seed\n",
        "without_seed_matrix_2 = np.random.randint(1, 51, (3, 3))\n",
        "print(\"\\nAnother Matrix Without Seed (Changes Each Run):\")\n",
        "print(without_seed_matrix_2)\n",
        "\n"
      ],
      "metadata": {
        "colab": {
          "base_uri": "https://localhost:8080/"
        },
        "id": "E0yWjysqA3QA",
        "outputId": "d1a40435-cd54-4e5d-abee-8693dad806e9"
      },
      "execution_count": 4,
      "outputs": [
        {
          "output_type": "stream",
          "name": "stdout",
          "text": [
            "\n",
            "Another Matrix Without Seed (Changes Each Run):\n",
            "[[30 50  9]\n",
            " [10  1 43]\n",
            " [41 37 17]]\n"
          ]
        }
      ]
    },
    {
      "cell_type": "markdown",
      "source": [
        "# Explanation:\n",
        "\n",
        "\n",
        "---\n",
        "\n",
        "\n",
        "\n",
        "- **Task 1:** Generates a random 3x3 matrix without setting a seed. As a result, the output will differ every time the script is run. This is called a non-deterministic process, meaning the results are unpredictable and unique on each execution.\n",
        "\n",
        "  \n",
        "\n",
        "- **Task 2:** Uses a fixed random seed (10 in this case). By setting the seed, the random number generation becomes deterministic. This means that the same sequence of random numbers (and hence the same matrix) will be produced every time the script runs, ensuring reproducibility.\n",
        "\n",
        "\n",
        "\n",
        "- **Task 3:** Similar to Task 1, it generates another random matrix without a seed, leading to different values with every execution. However, it’s a fresh random matrix generated independently from Task 1.\n",
        "\n",
        "  \n",
        "\n",
        "# Key Differences:\n",
        "\n",
        "\n",
        "---\n",
        "\n",
        "\n",
        "\n",
        "- The main difference between Task 1 & 3 (without seed) and Task 2 (with seed) is that Task 2 provides repeatable results due to the fixed seed, while the other two will give different results with every script run.\n"
      ],
      "metadata": {
        "id": "NuwT4p-V912Y"
      }
    }
  ]
}