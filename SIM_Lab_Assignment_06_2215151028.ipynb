{
  "nbformat": 4,
  "nbformat_minor": 0,
  "metadata": {
    "colab": {
      "provenance": [],
      "authorship_tag": "ABX9TyPeSfM2MC7V/vhHMjXkXOX0",
      "include_colab_link": true
    },
    "kernelspec": {
      "name": "python3",
      "display_name": "Python 3"
    },
    "language_info": {
      "name": "python"
    }
  },
  "cells": [
    {
      "cell_type": "markdown",
      "metadata": {
        "id": "view-in-github",
        "colab_type": "text"
      },
      "source": [
        "<a href=\"https://colab.research.google.com/github/Nayeem1028/Simulation-and-Modeling-Lab/blob/main/SIM_Lab_Assignment_06_2215151028.ipynb\" target=\"_parent\"><img src=\"https://colab.research.google.com/assets/colab-badge.svg\" alt=\"Open In Colab\"/></a>"
      ]
    },
    {
      "cell_type": "markdown",
      "source": [
        "# Student ID: 2215151028"
      ],
      "metadata": {
        "id": "3Voms-ab9Xhn"
      }
    },
    {
      "cell_type": "markdown",
      "source": [
        "# Monte Carlo Simulation: Inventory Management (LatinOrg Inc.)\n",
        "\n"
      ],
      "metadata": {
        "id": "jZ0KUmO39SBP"
      }
    },
    {
      "cell_type": "code",
      "execution_count": 4,
      "metadata": {
        "colab": {
          "base_uri": "https://localhost:8080/"
        },
        "id": "k3OvbdXm8wWl",
        "outputId": "f362a54f-2e87-4e13-abd0-27d2247b2481"
      },
      "outputs": [
        {
          "output_type": "stream",
          "name": "stdout",
          "text": [
            "(a) Average order quantity over 60 weeks (order every 2 weeks): 66.80 units\n",
            "(b) Average total cost per ordering cycle: $383.60\n"
          ]
        }
      ],
      "source": [
        "import random\n",
        "\n",
        "# Data for inventory and probabilities\n",
        "stock_levels = [15, 25, 35, 40, 42, 55]\n",
        "stock_probs = [0.12, 0.25, 0.35, 0.20, 0.06, 0.02]\n",
        "\n",
        "# Parameters\n",
        "simulation_duration = 60         # total weeks to simulate\n",
        "order_frequency = 2              # orders placed every 2 weeks\n",
        "number_of_orders = simulation_duration // order_frequency\n",
        "\n",
        "# Cost parameters\n",
        "cost_per_order = 50              # fixed ordering cost ($)\n",
        "cost_per_unit = 4                # cost per product ordered ($)\n",
        "weekly_holding_cost = 1          # holding cost per unit per week ($)\n",
        "max_stock = 100                  # maximum stock allowed\n",
        "\n",
        "order_quantities = []\n",
        "cost_records = []\n",
        "\n",
        "for _ in range(number_of_orders):\n",
        "    # Sample current inventory level at ordering time\n",
        "    current_stock = random.choices(stock_levels, stock_probs)[0]\n",
        "\n",
        "    # Calculate quantity to order to restock up to max_stock\n",
        "    quantity_ordered = max_stock - current_stock\n",
        "\n",
        "    # Calculate costs\n",
        "    ordering_expense = cost_per_order + quantity_ordered * cost_per_unit\n",
        "\n",
        "    # Inventory is held for 'order_frequency' weeks before next order arrives\n",
        "    inventory_holding_expense = current_stock * weekly_holding_cost * order_frequency\n",
        "\n",
        "    # Total expense for this ordering cycle\n",
        "    total_expense = ordering_expense + inventory_holding_expense\n",
        "\n",
        "    # Collect data\n",
        "    order_quantities.append(quantity_ordered)\n",
        "    cost_records.append(total_expense)\n",
        "\n",
        "# Compute averages over the simulation period\n",
        "average_order_quantity = sum(order_quantities) / number_of_orders\n",
        "average_cycle_cost = sum(cost_records) / number_of_orders\n",
        "\n",
        "print(f\"(a) Average order quantity over {simulation_duration} weeks (order every {order_frequency} weeks): {average_order_quantity:.2f} units\")\n",
        "print(f\"(b) Average total cost per ordering cycle: ${average_cycle_cost:.2f}\")\n"
      ]
    },
    {
      "cell_type": "markdown",
      "source": [
        "## Part 2: Single-Server Queue Simulations\n",
        "### **Simulation 1:** Perform a simulation for 200 customers with λ=3and μ=4. Calculate and compare the waiting time and server utilization."
      ],
      "metadata": {
        "id": "Y29kb1pk91C-"
      }
    },
    {
      "cell_type": "code",
      "source": [
        "import numpy as np\n",
        "\n",
        "# Step 1: Parameters\n",
        "lambda_rate = 3    # arrival rate λ = 3\n",
        "mu_rate = 4        # service rate μ = 4\n",
        "n_customers = 200  # number of customers\n",
        "\n",
        "# Step 2: Generate inter-arrival and service times\n",
        "inter_arrival_times = np.random.exponential(1 / lambda_rate, n_customers)\n",
        "service_times = np.random.exponential(1 / mu_rate, n_customers)\n",
        "arrival_times = np.cumsum(inter_arrival_times)\n",
        "\n",
        "# Step 3: Initialize start and end times\n",
        "start_times = np.zeros(n_customers)\n",
        "end_times = np.zeros(n_customers)\n",
        "\n",
        "start_times[0] = arrival_times[0]\n",
        "end_times[0] = start_times[0] + service_times[0]\n",
        "\n",
        "for i in range(1, n_customers):\n",
        "    start_times[i] = max(arrival_times[i], end_times[i - 1])\n",
        "    end_times[i] = start_times[i] + service_times[i]\n",
        "\n",
        "# Step 4: Calculate performance metrics\n",
        "waiting_times = start_times - arrival_times\n",
        "server_utilization = np.sum(service_times) / end_times[-1]\n",
        "avg_waiting_time = np.mean(waiting_times)\n",
        "\n",
        "print(f\"Simulation for {n_customers} customers with λ = {lambda_rate} and μ = {mu_rate}:\")\n",
        "print(f\"Average Waiting Time: {avg_waiting_time:.2f} time units\")\n",
        "print(f\"Server Utilization: {server_utilization * 100:.2f}%\")\n"
      ],
      "metadata": {
        "colab": {
          "base_uri": "https://localhost:8080/"
        },
        "id": "MQa8bC5h90mX",
        "outputId": "1f859ace-1e6b-491a-b74e-d0fb2ef2d644"
      },
      "execution_count": 6,
      "outputs": [
        {
          "output_type": "stream",
          "name": "stdout",
          "text": [
            "Simulation for 200 customers with λ = 3 and μ = 4:\n",
            "Average Waiting Time: 0.60 time units\n",
            "Server Utilization: 68.62%\n"
          ]
        }
      ]
    },
    {
      "cell_type": "markdown",
      "source": [
        "### **Simulation 2:**Simulate a system with λ=8 and μ=6. Discuss the impact of server overload on system performance.\n"
      ],
      "metadata": {
        "id": "nypIORKy-_pC"
      }
    },
    {
      "cell_type": "code",
      "source": [
        "import numpy as np\n",
        "\n",
        "# Parameters for Scenario 2 - overload\n",
        "lambda_rate = 8   # arrival rate (λ = 8)\n",
        "mu_rate = 6       # service rate (μ = 6)\n",
        "n_customers = 200 # number of customers to simulate\n",
        "\n",
        "# Generate inter-arrival and service times\n",
        "inter_arrival_times = np.random.exponential(1 / lambda_rate, n_customers)\n",
        "service_times = np.random.exponential(1 / mu_rate, n_customers)\n",
        "arrival_times = np.cumsum(inter_arrival_times)\n",
        "\n",
        "# Initialize start and end service times arrays\n",
        "start_times = np.zeros(n_customers)\n",
        "end_times = np.zeros(n_customers)\n",
        "\n",
        "# First customer starts service upon arrival\n",
        "start_times[0] = arrival_times[0]\n",
        "end_times[0] = start_times[0] + service_times[0]\n",
        "\n",
        "# Simulate service start and end times for all customers\n",
        "for i in range(1, n_customers):\n",
        "    start_times[i] = max(arrival_times[i], end_times[i - 1])\n",
        "    end_times[i] = start_times[i] + service_times[i]\n",
        "\n",
        "# Calculate waiting times and server utilization\n",
        "waiting_times = start_times - arrival_times\n",
        "avg_waiting_time = np.mean(waiting_times)\n",
        "server_utilization = np.sum(service_times) / end_times[-1]\n",
        "\n",
        "print(f\"Scenario 2 (λ = {lambda_rate}, μ = {mu_rate} - Overload):\")\n",
        "print(f\"Average Waiting Time: {avg_waiting_time:.2f} units\")\n",
        "print(f\"Server Utilization: {server_utilization * 100:.2f}%\")\n"
      ],
      "metadata": {
        "colab": {
          "base_uri": "https://localhost:8080/"
        },
        "id": "V_mVnvIf-zEy",
        "outputId": "c8e5c97e-b62a-4487-e398-f0e03b635bc2"
      },
      "execution_count": 8,
      "outputs": [
        {
          "output_type": "stream",
          "name": "stdout",
          "text": [
            "Scenario 2 (λ = 8, μ = 6 - Overload):\n",
            "Average Waiting Time: 3.63 units\n",
            "Server Utilization: 99.49%\n"
          ]
        }
      ]
    },
    {
      "cell_type": "markdown",
      "source": [
        "### **Simulation 3:** Modify the program to include a limited queue capacity (e.g., maximum 10 customers).Analyze how this affects the performance metrics."
      ],
      "metadata": {
        "id": "mtOBoCe2_cTx"
      }
    },
    {
      "cell_type": "code",
      "source": [
        "import numpy as np\n",
        "\n",
        "# Parameters\n",
        "max_queue_length = 10\n",
        "lambda_rate = 2.5\n",
        "mu_rate = 3\n",
        "n_customers = 200\n",
        "\n",
        "# Generate arrivals and service times\n",
        "arrivals = np.random.exponential(1 / lambda_rate, n_customers)\n",
        "services = np.random.exponential(1 / mu_rate, n_customers)\n",
        "arrival_times = np.cumsum(arrivals)\n",
        "\n",
        "# Initialize\n",
        "start_times = []\n",
        "end_times = []\n",
        "queue = []  # to track customers currently in queue (their end times)\n",
        "served_customers = 0\n",
        "\n",
        "for i in range(n_customers):\n",
        "    arrival = arrival_times[i]\n",
        "\n",
        "    # Remove customers from queue who have finished before this arrival\n",
        "    queue = [finish_time for finish_time in queue if finish_time > arrival]\n",
        "\n",
        "    # Check queue capacity\n",
        "    if len(queue) >= max_queue_length:\n",
        "        # Queue full, customer leaves (rejected)\n",
        "        continue\n",
        "\n",
        "    # Customer can be served\n",
        "    if len(queue) == 0:\n",
        "        # Server idle, start immediately at arrival\n",
        "        start = arrival\n",
        "    else:\n",
        "        # Server busy, start after last customer finishes\n",
        "        start = queue[-1]\n",
        "\n",
        "    end = start + services[i]\n",
        "    start_times.append(start)\n",
        "    end_times.append(end)\n",
        "    queue.append(end)  # add this customer's end time to queue\n",
        "    served_customers += 1\n",
        "\n",
        "start_times = np.array(start_times)\n",
        "end_times = np.array(end_times)\n",
        "waiting_times = start_times - arrival_times[:served_customers]\n",
        "server_utilization = np.sum(services[:served_customers]) / end_times[-1]\n",
        "avg_waiting_time = np.mean(waiting_times)\n",
        "\n",
        "print(f\"Scenario 3 (Limited Queue = {max_queue_length}):\")\n",
        "print(f\"Customers Served: {served_customers}\")\n",
        "print(f\"Average Waiting Time: {avg_waiting_time:.2f} units\")\n",
        "print(f\"Server Utilization: {server_utilization * 100:.2f}%\")\n"
      ],
      "metadata": {
        "colab": {
          "base_uri": "https://localhost:8080/"
        },
        "id": "O18kRRWc_bJP",
        "outputId": "2a6bb04c-5dab-41a4-e743-3357cb4049eb"
      },
      "execution_count": 9,
      "outputs": [
        {
          "output_type": "stream",
          "name": "stdout",
          "text": [
            "Scenario 3 (Limited Queue = 10):\n",
            "Customers Served: 200\n",
            "Average Waiting Time: 0.90 units\n",
            "Server Utilization: 77.46%\n"
          ]
        }
      ]
    }
  ]
}